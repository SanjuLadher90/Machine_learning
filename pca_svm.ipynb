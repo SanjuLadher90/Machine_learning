{
 "cells": [
  {
   "cell_type": "code",
   "execution_count": 1,
   "metadata": {
    "collapsed": true
   },
   "outputs": [],
   "source": [
    "import numpy as np\n",
    "from  sklearn.datasets import load_svmlight_file as a\n",
    "from scipy.sparse import coo_matrix, vstack\n",
    "from sklearn import svm \n",
    "from sklearn import cross_validation \n",
    "import matplotlib.pyplot as plt\n",
    "from sklearn.decomposition import RandomizedPCA\n",
    "from sklearn import preprocessing\n",
    "from matplotlib.mlab import PCA as mlabPCA\n",
    "from pylab import show,title,plot\n",
    "from sklearn.lda import LDA\n",
    "%matplotlib inline"
   ]
  },
  {
   "cell_type": "code",
   "execution_count": 2,
   "metadata": {
    "collapsed": true
   },
   "outputs": [],
   "source": [
    "#Load all Datasets\n",
    "Data1=a(\"C:\\Users\\Sanju\\Desktop\\datasets\\TV_News_Channel_Commercial_Detection_Dataset\\BBC.txt\",n_features=4125,dtype=np.float64,multilabel=False,zero_based='auto',query_id=False)\n",
    "Data2=a(\"C:\\Users\\Sanju\\Desktop\\datasets\\TV_News_Channel_Commercial_Detection_Dataset\\CNN.txt\",n_features=4125,dtype=np.float64,multilabel=False,zero_based='auto',query_id=False)\n",
    "Data3=a(\"C:\\Users\\Sanju\\Desktop\\datasets\\TV_News_Channel_Commercial_Detection_Dataset\\CNNIBN.txt\",n_features=4125,dtype=np.float64,multilabel=False,zero_based='auto',query_id=False)\n",
    "Data4=a(\"C:\\Users\\Sanju\\Desktop\\datasets\\TV_News_Channel_Commercial_Detection_Dataset\\NDTV.txt\",n_features=4125,dtype=np.float64,multilabel=False,zero_based='auto',query_id=False)\n",
    "Data5=a(\"C:\\Users\\Sanju\\Desktop\\datasets\\TV_News_Channel_Commercial_Detection_Dataset\\TIMESNOW.txt\",n_features=4125,dtype=np.float64,multilabel=False,zero_based='auto',query_id=False)"
   ]
  },
  {
   "cell_type": "code",
   "execution_count": 3,
   "metadata": {
    "collapsed": false
   },
   "outputs": [
    {
     "name": "stdout",
     "output_type": "stream",
     "text": [
      "(129685L, 4125L)\n",
      "(129685L,)\n"
     ]
    }
   ],
   "source": [
    "#x is an sparse matrix(n_samples.n_features), (y is a list of n_samples)\n",
    "\n",
    "data1x,data1y=Data1\n",
    "data2x,data2y=Data2\n",
    "data3x,data3y=Data3\n",
    "data4x,data4y=Data4\n",
    "data5x,data5y=Data5\n",
    "\n",
    "x1=coo_matrix(data1x)\n",
    "x2=coo_matrix(data2x)\n",
    "x3=coo_matrix(data3x)\n",
    "x4=coo_matrix(data4x)\n",
    "x5=coo_matrix(data5x)\n",
    "\n",
    "data_X=vstack([x1,x2,x3,x4,x5]).toarray()\n",
    "\n",
    "print data_X.shape\n",
    "\n",
    "Data_Y=np.concatenate((data1y,data2y,data3y,data4y,data5y), axis=1)\n",
    "print Data_Y.shape    "
   ]
  },
  {
   "cell_type": "code",
   "execution_count": 4,
   "metadata": {
    "collapsed": true
   },
   "outputs": [],
   "source": [
    "X_train, X_test, y_train, y_test = cross_validation.train_test_split(\n",
    "    data_X, Data_Y, test_size=0.25,random_state=100)"
   ]
  },
  {
   "cell_type": "code",
   "execution_count": 5,
   "metadata": {
    "collapsed": false
   },
   "outputs": [
    {
     "name": "stdout",
     "output_type": "stream",
     "text": [
      "(97263L, 4125L)\n",
      "(32422L, 4125L)\n"
     ]
    }
   ],
   "source": [
    "#Normalized Data\n",
    "from sklearn import preprocessing\n",
    "\n",
    "#Normalise Each Feature\n",
    "X_train_1=X_train\n",
    "X_test_1=X_test\n",
    "\n",
    "X_train_1=preprocessing.normalize(X_train_1,norm='l2')\n",
    "X_test_1=preprocessing.normalize(X_test_1,norm='l2')\n",
    "\n",
    "\n",
    "        \n",
    "print  X_train_1.shape         \n",
    "print  X_test_1.shape"
   ]
  },
  {
   "cell_type": "code",
   "execution_count": 7,
   "metadata": {
    "collapsed": false
   },
   "outputs": [
    {
     "name": "stdout",
     "output_type": "stream",
     "text": [
      "[ 0.05943109  0.01108892]\n",
      "[ 0.75157061  0.14023139]\n",
      "1.35464940625\n",
      "0.364381376269\n",
      "[ 1. -1. -1.  1.  1.  1.  1. -1. -1.  1.]\n"
     ]
    }
   ],
   "source": [
    "#PCA implementataion \n",
    "pca = RandomizedPCA(n_components=2).fit(X_train_1[0:75000])\n",
    "X_train_pca=pca.transform(X_train_1[0:75000])\n",
    "print pca.explained_variance_\n",
    "print pca.explained_variance_ratio_\n",
    "\n",
    "X_test_pca=pca.transform(X_test_1[0:25000])\n",
    "\n",
    "X_train_pca_1=X_train_pca\n",
    "X_test_pca_1=X_test_pca\n",
    "print max(X_train_pca_1[0:,0])\n",
    "print max(X_train_pca_1[0:,1])\n",
    "print y_train[0:10]"
   ]
  },
  {
   "cell_type": "code",
   "execution_count": 162,
   "metadata": {
    "collapsed": false
   },
   "outputs": [
    {
     "data": {
      "image/png": "[encoded data removed]",
      "text/plain": [
       "<matplotlib.figure.Figure at 0x175a7710>"
      ]
     },
     "metadata": {},
     "output_type": "display_data"
    }
   ],
   "source": [
    "x1_min=min(X_test_pca_1[0:,0])\n",
    "x1_max=max(X_test_pca_1[0:,0])\n",
    "\n",
    "x2_min=min(X_test_pca_1[0:,1])\n",
    "x2_max=max(X_test_pca_1[0:,1])\n",
    "\n",
    "\n",
    "\n",
    "plt.figure()\n",
    "plt.plot(X_test_pca_1[0:10,0], 'bo')\n",
    "plt.plot(X_test_pca_1[0:10,1], 'r.')\n",
    "plt.xlim(-2,11)\n",
    "plt.ylim(-0.5,0.5)\n",
    "plt.show()\n"
   ]
  },
  {
   "cell_type": "code",
   "execution_count": 45,
   "metadata": {
    "collapsed": true
   },
   "outputs": [],
   "source": [
    "slf=svm.SVC(kernel='linear',C=1).fit(X_train_pca_1,y_train[0:75000])"
   ]
  },
  {
   "cell_type": "code",
   "execution_count": 61,
   "metadata": {
    "collapsed": false
   },
   "outputs": [
    {
     "data": {
      "text/plain": [
       "72.984000000000009"
      ]
     },
     "execution_count": 61,
     "metadata": {},
     "output_type": "execute_result"
    }
   ],
   "source": [
    "slf.score(X_test_pca_1,y_test[0:25000])*100"
   ]
  },
  {
   "cell_type": "code",
   "execution_count": 158,
   "metadata": {
    "collapsed": false
   },
   "outputs": [
    {
     "name": "stdout",
     "output_type": "stream",
     "text": [
      "[-1.34338936 -8.40781762]\n"
     ]
    },
    {
     "data": {
      "image/png": "[encoded data removed]",
      "text/plain": [
       "<matplotlib.figure.Figure at 0x3e769c18>"
      ]
     },
     "metadata": {},
     "output_type": "display_data"
    }
   ],
   "source": [
    "w = slf.coef_[0]\n",
    "print(w)\n",
    "\n",
    "a = -w[0] / w[1]\n",
    "\n",
    "xx = np.linspace(-0.2,1)\n",
    "yy = a * xx - slf.intercept_[0] / w[1]\n",
    "\n",
    "h0 = plt.plot(xx, yy, 'k-', label=\"model\")\n",
    "\n",
    "plt.scatter(X_test_pca_1[:20, 0], X_test_pca_1[:20, 1], c = y_test[:20])\n",
    "plt.legend()\n",
    "plt.show()"
   ]
  }
 ],
 "metadata": {
  "kernelspec": {
   "display_name": "Python 2",
   "language": "python",
   "name": "python2"
  },
  "language_info": {
   "codemirror_mode": {
    "name": "ipython",
    "version": 2
   },
   "file_extension": ".py",
   "mimetype": "text/x-python",
   "name": "python",
   "nbconvert_exporter": "python",
   "pygments_lexer": "ipython2",
   "version": "2.7.10"
  }
 },
 "nbformat": 4,
 "nbformat_minor": 0
}
