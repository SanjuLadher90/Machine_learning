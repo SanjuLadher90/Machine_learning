{
 "cells": [
  {
   "cell_type": "code",
   "execution_count": 1,
   "metadata": {
    "collapsed": false
   },
   "outputs": [],
   "source": [
    "import numpy as np\n",
    "from  sklearn.datasets import load_svmlight_file as a\n",
    "from scipy.sparse import coo_matrix, vstack\n",
    "from sklearn import svm \n",
    "from sklearn import cross_validation \n",
    "import matplotlib.pyplot as plt\n",
    "from sklearn.decomposition import RandomizedPCA\n",
    "from sklearn import preprocessing\n",
    "from matplotlib.mlab import PCA as mlabPCA\n",
    "from pylab import show,title,plot\n",
    "from sklearn.lda import LDA\n",
    "from sklearn.ensemble import RandomForestClassifier\n",
    "%matplotlib inline"
   ]
  },
  {
   "cell_type": "code",
   "execution_count": 2,
   "metadata": {
    "collapsed": true
   },
   "outputs": [],
   "source": [
    "#Load all Datasets\n",
    "Data1=a(\"C:\\Users\\Sanju\\Desktop\\datasets\\TV_News_Channel_Commercial_Detection_Dataset\\BBC.txt\",n_features=4125,dtype=np.float64,multilabel=False,zero_based='auto',query_id=False)\n",
    "Data2=a(\"C:\\Users\\Sanju\\Desktop\\datasets\\TV_News_Channel_Commercial_Detection_Dataset\\CNN.txt\",n_features=4125,dtype=np.float64,multilabel=False,zero_based='auto',query_id=False)\n",
    "Data3=a(\"C:\\Users\\Sanju\\Desktop\\datasets\\TV_News_Channel_Commercial_Detection_Dataset\\CNNIBN.txt\",n_features=4125,dtype=np.float64,multilabel=False,zero_based='auto',query_id=False)\n",
    "Data4=a(\"C:\\Users\\Sanju\\Desktop\\datasets\\TV_News_Channel_Commercial_Detection_Dataset\\NDTV.txt\",n_features=4125,dtype=np.float64,multilabel=False,zero_based='auto',query_id=False)\n",
    "Data5=a(\"C:\\Users\\Sanju\\Desktop\\datasets\\TV_News_Channel_Commercial_Detection_Dataset\\TIMESNOW.txt\",n_features=4125,dtype=np.float64,multilabel=False,zero_based='auto',query_id=False)"
   ]
  },
  {
   "cell_type": "code",
   "execution_count": 3,
   "metadata": {
    "collapsed": false,
    "scrolled": true
   },
   "outputs": [
    {
     "name": "stdout",
     "output_type": "stream",
     "text": [
      "(90089L, 4125L)\n",
      "(90089L,)\n"
     ]
    }
   ],
   "source": [
    "#x is an sparse matrix(n_samples.n_features), (y is a list of n_samples)\n",
    "data1x,data1y=Data1\n",
    "data2x,data2y=Data2\n",
    "data3x,data3y=Data3\n",
    "data4x,data4y=Data4\n",
    "data5x,data5y=Data5\n",
    "\n",
    "x1=coo_matrix(data1x)\n",
    "x2=coo_matrix(data2x)\n",
    "x3=coo_matrix(data3x)\n",
    "x4=coo_matrix(data4x)\n",
    "x5=coo_matrix(data5x)\n",
    "\n",
    "data_X=vstack([x1,x3,x5]).toarray()\n",
    "\n",
    "print data_X.shape\n",
    "\n",
    "Data_Y=np.concatenate((data1y,data3y,data5y), axis=1)\n",
    "print Data_Y.shape    "
   ]
  },
  {
   "cell_type": "code",
   "execution_count": 4,
   "metadata": {
    "collapsed": false
   },
   "outputs": [],
   "source": [
    "X_train, X_test, y_train, y_test = cross_validation.train_test_split(\n",
    "    data_X, Data_Y, test_size=0.25,random_state=50)"
   ]
  },
  {
   "cell_type": "code",
   "execution_count": 5,
   "metadata": {
    "collapsed": false
   },
   "outputs": [],
   "source": [
    "#Copies of train and Test Dataset \n",
    "\n",
    "#SVM\n",
    "SVM_Train_X=X_train\n",
    "SVM_test_X=X_test\n",
    "#RF\n",
    "RF_Train_X=X_train\n",
    "RF_test_X=X_test\n",
    "\n"
   ]
  },
  {
   "cell_type": "code",
   "execution_count": 6,
   "metadata": {
    "collapsed": false
   },
   "outputs": [
    {
     "name": "stdout",
     "output_type": "stream",
     "text": [
      "(67566L, 4125L)\n"
     ]
    },
    {
     "data": {
      "text/plain": [
       "(22523L, 4125L)"
      ]
     },
     "execution_count": 6,
     "metadata": {},
     "output_type": "execute_result"
    }
   ],
   "source": [
    "print SVM_Train_X.shape\n",
    "SVM_test_X.shape"
   ]
  },
  {
   "cell_type": "code",
   "execution_count": null,
   "metadata": {
    "collapsed": true
   },
   "outputs": [],
   "source": [
    "#SVM Classification with 4125 features\n",
    "slf=svm.SVC(kernel='linear')\n",
    "slf.fit(SVM_Train_X,y_train)"
   ]
  },
  {
   "cell_type": "code",
   "execution_count": null,
   "metadata": {
    "collapsed": true
   },
   "outputs": [],
   "source": [
    "SVM_SCORE=slf.score(SVM_test_X,y_test)*100"
   ]
  },
  {
   "cell_type": "code",
   "execution_count": 7,
   "metadata": {
    "collapsed": false
   },
   "outputs": [
    {
     "data": {
      "text/plain": [
       "RandomForestClassifier(bootstrap=True, class_weight=None, criterion='gini',\n",
       "            max_depth=None, max_features='auto', max_leaf_nodes=None,\n",
       "            min_samples_leaf=1, min_samples_split=2,\n",
       "            min_weight_fraction_leaf=0.0, n_estimators=1000, n_jobs=2,\n",
       "            oob_score=False, random_state=None, verbose=0,\n",
       "            warm_start=False)"
      ]
     },
     "execution_count": 7,
     "metadata": {},
     "output_type": "execute_result"
    }
   ],
   "source": [
    "#Random Forest Classifier\n",
    "Rlf = RandomForestClassifier(n_estimators=1000,n_jobs=2)\n",
    "Rlf.fit(RF_Train_X,y_train)"
   ]
  },
  {
   "cell_type": "code",
   "execution_count": 9,
   "metadata": {
    "collapsed": false
   },
   "outputs": [
    {
     "name": "stdout",
     "output_type": "stream",
     "text": [
      "93.1003862718\n"
     ]
    }
   ],
   "source": [
    "RFC_SCORE=Rlf.score(RF_test_X,y_test)*100\n",
    "print RFC_SCORE"
   ]
  },
  {
   "cell_type": "code",
   "execution_count": null,
   "metadata": {
    "collapsed": true
   },
   "outputs": [],
   "source": []
  },
  {
   "cell_type": "code",
   "execution_count": 10,
   "metadata": {
    "collapsed": true
   },
   "outputs": [],
   "source": [
    "#Normalise Each Feature\n",
    "Train_X=preprocessing.normalize(X_train,norm='l2')\n",
    "Test_X=preprocessing.normalize(X_test,norm='l2')"
   ]
  },
  {
   "cell_type": "code",
   "execution_count": 13,
   "metadata": {
    "collapsed": false
   },
   "outputs": [],
   "source": [
    "#Copies\n",
    "SVM_test_X_lda=Test_X\n",
    "SVM_test_X_pca=Test_X\n",
    "SVM_Train_X_lda=Train_X\n",
    "SVM_Train_X_pca=Train_X\n",
    "\n",
    "RF_test_X_lda=Test_X\n",
    "RF_test_X_pca=Test_X\n",
    "RF_Train_X_lda=Train_X\n",
    "RF_Train_X_pca=Train_X"
   ]
  },
  {
   "cell_type": "code",
   "execution_count": 14,
   "metadata": {
    "collapsed": false
   },
   "outputs": [
    {
     "name": "stdout",
     "output_type": "stream",
     "text": [
      "(67566L, 4125L)\n"
     ]
    }
   ],
   "source": [
    "print Train_X.shape"
   ]
  },
  {
   "cell_type": "code",
   "execution_count": 15,
   "metadata": {
    "collapsed": false
   },
   "outputs": [],
   "source": [
    "#PCA implementataion \n",
    "pca = RandomizedPCA(n_components=2).fit(SVM_Train_X_pca)\n",
    "#SVM\n",
    "SVM_Train_X_pca=pca.transform(SVM_Train_X_pca)\n",
    "SVM_test_X_pca=pca.transform(SVM_test_X_pca)"
   ]
  },
  {
   "cell_type": "code",
   "execution_count": 16,
   "metadata": {
    "collapsed": true
   },
   "outputs": [],
   "source": [
    "#for random forest \n",
    "pca = RandomizedPCA(n_components=2).fit(RF_Train_X_pca)\n",
    "#RANd\n",
    "RF_Train_X_pca=pca.transform(RF_Train_X_pca)\n",
    "RF_test_X_pca=pca.transform(RF_test_X_pca)"
   ]
  },
  {
   "cell_type": "code",
   "execution_count": 17,
   "metadata": {
    "collapsed": false
   },
   "outputs": [
    {
     "data": {
      "text/plain": [
       "SVC(C=1.0, cache_size=200, class_weight=None, coef0=0.0, degree=3, gamma=0.0,\n",
       "  kernel='linear', max_iter=-1, probability=False, random_state=None,\n",
       "  shrinking=True, tol=0.001, verbose=False)"
      ]
     },
     "execution_count": 17,
     "metadata": {},
     "output_type": "execute_result"
    }
   ],
   "source": [
    "#SVM Classification with 2 best features PCA\n",
    "slf=svm.SVC(kernel='linear')\n",
    "slf.fit(SVM_Train_X_pca,y_train)"
   ]
  },
  {
   "cell_type": "code",
   "execution_count": null,
   "metadata": {
    "collapsed": true
   },
   "outputs": [],
   "source": [
    "#SVM Classification with 2 best features Lda\n",
    "slf_1=svm.SVC(kernel='linear')\n",
    "slf_1.fit(SVM_Train_X_lda,y_train)"
   ]
  },
  {
   "cell_type": "code",
   "execution_count": 18,
   "metadata": {
    "collapsed": false
   },
   "outputs": [
    {
     "name": "stdout",
     "output_type": "stream",
     "text": [
      "70.8076188785\n"
     ]
    }
   ],
   "source": [
    "SVM_SCORE_pca=slf.score(SVM_test_X_pca,y_test)*100\n",
    "print SVM_SCORE_pca\n",
    "#SVM_SCORE_lda=slf_1.score(SVM_test_X_lda,y_test)*100"
   ]
  },
  {
   "cell_type": "code",
   "execution_count": 19,
   "metadata": {
    "collapsed": false
   },
   "outputs": [
    {
     "data": {
      "text/plain": [
       "RandomForestClassifier(bootstrap=True, class_weight=None, criterion='gini',\n",
       "            max_depth=None, max_features='auto', max_leaf_nodes=None,\n",
       "            min_samples_leaf=1, min_samples_split=2,\n",
       "            min_weight_fraction_leaf=0.0, n_estimators=1000, n_jobs=2,\n",
       "            oob_score=False, random_state=None, verbose=0,\n",
       "            warm_start=False)"
      ]
     },
     "execution_count": 19,
     "metadata": {},
     "output_type": "execute_result"
    }
   ],
   "source": [
    "#Random _classifier with 2 features\n",
    "Rlf = RandomForestClassifier(n_estimators=1000,n_jobs=2)\n",
    "Rlf.fit(RF_Train_X_pca,y_train)"
   ]
  },
  {
   "cell_type": "code",
   "execution_count": null,
   "metadata": {
    "collapsed": true
   },
   "outputs": [],
   "source": [
    "#\n",
    "Rlf_1 = RandomForestClassifier(n_estimators=1000,n_jobs=2)\n",
    "Rlf_1.fit(RF_Train_X_lda,y_train)"
   ]
  },
  {
   "cell_type": "code",
   "execution_count": 20,
   "metadata": {
    "collapsed": true
   },
   "outputs": [],
   "source": [
    "RFC_SCORE_pca=Rlf.score(RF_test_X_pca,y_test)*100\n",
    "#RFC_SCORE_lda=Rlf_1.score(RF_test_X_lda,y_test)*100"
   ]
  },
  {
   "cell_type": "code",
   "execution_count": 21,
   "metadata": {
    "collapsed": false
   },
   "outputs": [
    {
     "name": "stdout",
     "output_type": "stream",
     "text": [
      "SVM\n",
      "70.8076188785\n",
      "Random Forest\n",
      "76.0911068685\n"
     ]
    }
   ],
   "source": [
    "print \"SVM\"\n",
    "print SVM_SCORE_pca\n",
    "#print SVM_SCORE_lda\n",
    "#print SVM_SCORE\n",
    "\n",
    "\n",
    "print \"Random Forest\"\n",
    "#print RFC_SCORE\n",
    "print RFC_SCORE_pca\n",
    "#print RFC_SCORE_lda\n",
    "\n",
    "\n",
    "\n"
   ]
  },
  {
   "cell_type": "code",
   "execution_count": 48,
   "metadata": {
    "collapsed": false
   },
   "outputs": [
    {
     "data": {
      "image/png": "[encoded data removed]",
      "text/plain": [
       "<matplotlib.figure.Figure at 0xb7bbcc0>"
      ]
     },
     "metadata": {},
     "output_type": "display_data"
    }
   ],
   "source": [
    "import numpy as np\n",
    "import matplotlib.pyplot as plt\n",
    "%matplotlib inline\n",
    "# evenly sampled time at 200ms intervals\n",
    "t =70.8\n",
    "t1=76.0911\n",
    "t2=93.11\n",
    "t3=83.11\n",
    "t4=89.3\n",
    "t5=84.11\n",
    "\n",
    "\n",
    "plt.xlim(30, 100)\n",
    "plt.ylim(30, 100)\n",
    "plt.plot(t,t,'ro')\n",
    "plt.plot(t1,t1,'yo')\n",
    "plt.plot(t2,t2,'go')\n",
    "plt.plot(t3,t3,'bo')\n",
    "plt.plot(t4,t4,'ko')\n",
    "plt.plot(t5,t5,'mo')\n",
    "plt.legend(['t = SVM_pca', 't1 = Rf_PCA', 't2 = Ra Forest', 't3 = SVM','t4 = SVM-Lda(1)','t5 = RF-Lda(1)'], loc='upper left')\n",
    "\n",
    "plt.show()"
   ]
  }
 ],
 "metadata": {
  "kernelspec": {
   "display_name": "Python 2",
   "language": "python",
   "name": "python2"
  },
  "language_info": {
   "codemirror_mode": {
    "name": "ipython",
    "version": 2
   },
   "file_extension": ".py",
   "mimetype": "text/x-python",
   "name": "python",
   "nbconvert_exporter": "python",
   "pygments_lexer": "ipython2",
   "version": "2.7.10"
  }
 },
 "nbformat": 4,
 "nbformat_minor": 0
}
